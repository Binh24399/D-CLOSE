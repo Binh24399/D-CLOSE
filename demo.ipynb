{
 "cells": [
  {
   "cell_type": "markdown",
   "metadata": {
    "id": "EkAl4JpHcypY"
   },
   "source": [
    "# Install package"
   ]
  },
  {
   "cell_type": "code",
   "execution_count": null,
   "metadata": {
    "colab": {
     "base_uri": "https://localhost:8080/"
    },
    "id": "URjad3pgZlZ5",
    "outputId": "e6820740-5b68-4cd5-a60c-2b5532490d65"
   },
   "outputs": [],
   "source": [
    "!pip install -r requirements.txt"
   ]
  },
  {
   "cell_type": "markdown",
   "metadata": {
    "id": "1RlXU0VcuHOy"
   },
   "source": [
    "# Import package"
   ]
  },
  {
   "cell_type": "code",
   "execution_count": null,
   "metadata": {
    "id": "LTby1v9kZoPC"
   },
   "outputs": [],
   "source": [
    "import torch\n",
    "import torchvision\n",
    "import numpy as np\n",
    "import cv2\n",
    "import os\n",
    "import glob\n",
    "from yolox import models\n",
    "from yolox.utils import *\n",
    "from yolox.data import data_augment\n",
    "from torchvision import transforms as T\n",
    "from tqdm import tqdm\n",
    "from d_close import DCLOSE\n",
    "from tool import *"
   ]
  },
  {
   "cell_type": "code",
   "execution_count": null,
   "metadata": {
    "id": "wQr6wFb_jTA8"
   },
   "outputs": [],
   "source": [
    "device = 'cuda' if torch.cuda.is_available() else 'cpu'  # check device is using cuda or just using cpu"
   ]
  },
  {
   "cell_type": "markdown",
   "metadata": {
    "id": "XrxHiQWvbSSw"
   },
   "source": [
    "# D-CLOSE for YOLOX model"
   ]
  },
  {
   "cell_type": "code",
   "execution_count": null,
   "metadata": {
    "colab": {
     "base_uri": "https://localhost:8080/",
     "height": 86,
     "referenced_widgets": [
      "e553c8a804da49069f27343bdc2ab7d1",
      "354cc4705cfe4e40bb8103e2b174db78",
      "79417560215646f9af0d80267155f9e4",
      "b59d715f3cdb4d109e24d2fd141e6e8b",
      "af155fe1bf53452e95b8099d060e0b6c",
      "c9b86b3756f4421d90295b7db689621b",
      "cafa9fbfe1c4477d8520aaf25e931739",
      "097d56ef02ec4ebe954d345b73bca9da",
      "a13266d4f5d24688b6069e2b9311fec3",
      "906d1d760fa84041a210886e37d00508",
      "1d62fb47eb394188bdabde271e7ba2cf"
     ]
    },
    "id": "_JZpVWQpZxrS",
    "outputId": "3db1ba6c-0492-4a78-8184-d0151188b6a4"
   },
   "outputs": [],
   "source": [
    "# load yolox model\n",
    "model = models.yolox_l(pretrained=True)\n",
    "model.eval()\n",
    "transform = data_augment.ValTransform(legacy=False)"
   ]
  },
  {
   "cell_type": "code",
   "execution_count": null,
   "metadata": {
    "colab": {
     "base_uri": "https://localhost:8080/",
     "height": 818
    },
    "id": "k_bBw4dLZ7V_",
    "outputId": "de8fbe76-c5c8-4a66-a02d-29dde43d7488"
   },
   "outputs": [],
   "source": [
    "# read image\n",
    "img_path = './images/000000504635.jpg'\n",
    "output = './results/yolox'\n",
    "org_img = cv2.imread(img_path)\n",
    "org_img = cv2.cvtColor(org_img, cv2.COLOR_BGR2RGB)\n",
    "h, w, c = org_img.shape\n",
    "# preprocess image\n",
    "ratio = min(640 / h, 640 / w)\n",
    "img, _ = transform(org_img, None, (640, 640))\n",
    "img = torch.from_numpy(img).unsqueeze(0).float()\n",
    "img_np = img.squeeze().numpy().transpose(1, 2, 0).astype(np.uint8)\n",
    "name_img = img_path.split('/')[-1].split('.')[0]\n",
    "\n",
    "dclose = DCLOSE(arch=\"yolox\", model=model, img_size=(640, 640), n_samples=4000)\n",
    "# forward image\n",
    "with torch.no_grad():  \n",
    "    out = model(img.to(device))\n",
    "    box, index = postprocess(out, num_classes=80, conf_thre=0.25, nms_thre=0.45, class_agnostic=True)\n",
    "    box = box[0]\n",
    "    rs = dclose(img, box)\n",
    "np.save(f'{name_img}.npy', rs)\n",
    "if not os.path.exists(output):\n",
    "    os.makedirs(output)\n",
    "output = os.path.join(output, name_img)\n",
    "# visual results\n",
    "visual(img_np, rs, box.cpu(), arch=\"yolox\", save_file=output)"
   ]
  },
  {
   "cell_type": "markdown",
   "metadata": {
    "id": "lYBeumQkbVmi"
   },
   "source": [
    "# D-CLOSE for Faster-RCNN model"
   ]
  },
  {
   "cell_type": "code",
   "execution_count": null,
   "metadata": {
    "colab": {
     "base_uri": "https://localhost:8080/",
     "height": 937,
     "referenced_widgets": [
      "02a3e5dbc2e8421cb64fe243671cb016",
      "3aed09904de74795a3a526b2737c09fc",
      "503f1a95302848caa5932560c61a7df5",
      "73afdfdc437b4853a956239042f6b53e",
      "6a9fe632a4ad4bcf8a2f1bfe7be425da",
      "b553499936084edf849df079c4a09fc8",
      "63e6235624eb463d992996f27333017c",
      "6d1f2237df124ab18eaa493f19b30aad",
      "4897e821af104c40815000c85dcb56f8",
      "d8249944e0bf46d4b26e33d2481dc365",
      "34c008f8cd18449693d278333c775ac4"
     ]
    },
    "id": "EAThk5EgbcjQ",
    "outputId": "7bf932a0-ef6a-49ba-bae3-4a3f88e7406a"
   },
   "outputs": [],
   "source": [
    "# load model\n",
    "model = torchvision.models.detection.fasterrcnn_resnet50_fpn(pretrained=True)\n",
    "model.eval().to(device)\n",
    "\n",
    "# read image\n",
    "img_path = './images/000000504635.jpg'\n",
    "output = './results/faster_rcnn'\n",
    "transform = T.Compose([T.ToTensor()])\n",
    "img = cv2.imread(img_path)\n",
    "img = cv2.cvtColor(img, cv2.COLOR_BGR2RGB)\n",
    "org_h, org_w, _ = img.shape\n",
    "# preprocess image\n",
    "img = transform(img)\n",
    "img_np = img.numpy().transpose(1,2,0)\n",
    "img_np = (255 * img_np).astype(np.uint8)\n",
    "name_img = img_path.split('/')[-1].split('.')[0]\n",
    "\n",
    "dclose = DCLOSE(arch=\"faster-rcnn\", model=model, img_size=(img.shape[1:]), n_samples=4000)\n",
    "# forward image\n",
    "prediction = model([img.to(device)])\n",
    "box  = get_prediction(prediction, 0.8)\n",
    "rs = dclose(img, box)\n",
    "# np.save(f'{name_img}.npy', rs)\n",
    "if not os.path.exists(output):\n",
    "    os.makedirs(output)\n",
    "output = os.path.join(output, name_img)\n",
    "# visual results\n",
    "visual(img_np, rs, box, arch=\"faster_rcnn\", save_file=output)"
   ]
  },
  {
   "cell_type": "markdown",
   "metadata": {
    "id": "-TUh0jogN_DR"
   },
   "source": [
    "# Ground-truth of MS-COCO dataset"
   ]
  },
  {
   "cell_type": "code",
   "execution_count": null,
   "metadata": {
    "colab": {
     "base_uri": "https://localhost:8080/"
    },
    "id": "rKwK8b95N-WO",
    "outputId": "bdcc4d4a-2617-4783-f047-05d405c03f13"
   },
   "outputs": [],
   "source": [
    "\"\"\"\n",
    "Extract the class label and bounding box for each image in the MS-COCO validation dataset\n",
    "Input: annotations_path (path to file annotations) \n",
    "Return: info_data: {\"name_img\": [[x1, y1, x2, y2], [x1', y1', x2', y2'],...]}\n",
    "\"\"\"\n",
    "from pycocotools.coco import COCO\n",
    "annotations_path = './COCO/annotations/instances_val2017.json'\n",
    "coco = COCO(annotations_path)\n",
    "ids = coco.getImgIds()\n",
    "info_data = dict()\n",
    "class_ids = sorted(coco.getCatIds())\n",
    "for id_ in ids:\n",
    "    im_ann = coco.loadImgs(id_)[0]\n",
    "    width = im_ann[\"width\"]\n",
    "    height = im_ann[\"height\"]\n",
    "    img_name = im_ann[\"file_name\"]\n",
    "    anno_ids = coco.getAnnIds(imgIds=[int(id_)], iscrowd=False)\n",
    "    annotations = coco.loadAnns(anno_ids)\n",
    "    objs = []\n",
    "    for obj in annotations:\n",
    "        x1 = np.max((0, obj[\"bbox\"][0]))\n",
    "        y1 = np.max((0, obj[\"bbox\"][1]))\n",
    "        x2 = np.min((width, x1 + np.max((0, obj[\"bbox\"][2]))))\n",
    "        y2 = np.min((height, y1 + np.max((0, obj[\"bbox\"][3]))))\n",
    "        if obj[\"area\"] > 0 and x2 >= x1 and y2 >= y1:\n",
    "            obj[\"clean_bbox\"] = [x1, y1, x2, y2]\n",
    "            objs.append(obj)\n",
    "    num_objs = len(objs)\n",
    "    res = np.zeros((num_objs, 5))\n",
    "    for ix, obj in enumerate(objs):\n",
    "        cls = class_ids.index(obj[\"category_id\"])\n",
    "        res[ix, 0:4] = obj[\"clean_bbox\"]\n",
    "        res[ix, 4] = cls\n",
    "    r = min(640 / height, 640 / width)\n",
    "    res[:, :4] *= r\n",
    "    info_data[img_name] = res"
   ]
  },
  {
   "cell_type": "markdown",
   "metadata": {
    "id": "OzIyyM2FMrVp"
   },
   "source": [
    "# Metric for YOLOX model"
   ]
  },
  {
   "cell_type": "markdown",
   "metadata": {
    "id": "Xk6ioNsNM3FD"
   },
   "source": [
    "## Localization evaluation"
   ]
  },
  {
   "cell_type": "code",
   "execution_count": null,
   "metadata": {
    "id": "xRQL4GbYuN5h"
   },
   "outputs": [],
   "source": [
    "from evaluation import metric, causal_metric, correspond_box\n",
    "from yolox.utils import postprocess\n",
    "\n",
    "# load yolox model\n",
    "model = models.yolox_l(pretrained=True)\n",
    "model.eval()\n",
    "transform = data_augment.ValTransform(legacy=False)\n",
    "\n",
    "# create array to save results\n",
    "ebpg = np.zeros(80)\n",
    "pg = np.zeros(80)\n",
    "count = np.zeros(80)\n",
    "\n",
    "# read image\n",
    "img_path = './images/000000504635.jpg'\n",
    "org_img = cv2.imread(img_path)\n",
    "org_img = cv2.cvtColor(org_img, cv2.COLOR_BGR2RGB)\n",
    "h, w, c = org_img.shape\n",
    "ratio = min(640 / h, 640 / w)\n",
    "\n",
    "# preprocess image\n",
    "img, _ = transform(org_img, None, (640, 640))\n",
    "img = torch.from_numpy(img).unsqueeze(0).float()\n",
    "img_np = img.squeeze().numpy().transpose(1, 2, 0).astype(np.uint8)\n",
    "file_name = img_path.split('/')[-1]\n",
    "name_img = file_name.split('.')[0]\n",
    "\n",
    "# forward image\n",
    "with torch.no_grad():  \n",
    "    out = model(img.to('cuda:0'))\n",
    "    box, index = postprocess(out, num_classes=80, conf_thre=0.25, nms_thre=0.45, class_agnostic=True)\n",
    "    box = box[0]\n",
    "    # if box is None or len(info_data[file_name]) == 0:\n",
    "    #     continue\n",
    "    gt_box, idx_correspond = correspond_box(box.cpu().numpy(), info_data[file_name])\n",
    "    # if len(gt_box) == 0:\n",
    "    #     continue\n",
    "    explanation_map = np.load(f'{name_img}.npy')\n",
    "    ebpg_img, pg_img, count_img = metric(gt_box, explanation_map[idx_correspond,:,:])\n",
    "    ebpg += ebpg_img\n",
    "    pg += pg_img\n",
    "    count += count_img\n",
    "print(\"PG:\", np.mean(pg[count!=0]/count[count!=0]))\n",
    "print(\"EBPG:\", np.mean(ebpg[count!=0]/count[count!=0]))"
   ]
  },
  {
   "cell_type": "markdown",
   "metadata": {
    "id": "iw3Y2opjQkVV"
   },
   "source": [
    "## Faithfulness Evaluation"
   ]
  },
  {
   "cell_type": "code",
   "execution_count": null,
   "metadata": {
    "id": "_P2yvxVAQfQ-"
   },
   "outputs": [],
   "source": [
    "from evaluation import causal_metric\n",
    "from yolox.utils import postprocess\n",
    "\n",
    "# create array to save results\n",
    "del_auc = np.zeros(80)\n",
    "ins_auc = np.zeros(80)\n",
    "count = np.zeros(80)\n",
    "\n",
    "# read image\n",
    "img_path = './images/000000504635.jpg'\n",
    "org_img = cv2.imread(img_path)\n",
    "org_img = cv2.cvtColor(org_img, cv2.COLOR_BGR2RGB)\n",
    "h, w, c = org_img.shape\n",
    "ratio = min(640 / h, 640 / w)\n",
    "\n",
    "# preprocess image\n",
    "img, _ = transform(org_img, None, (640, 640))\n",
    "img = torch.from_numpy(img).unsqueeze(0).float()\n",
    "img_np = img.squeeze().numpy().transpose(1, 2, 0).astype(np.uint8)\n",
    "file_name = img_path.split('/')[-1]\n",
    "name_img = file_name.split('.')[0]\n",
    "\n",
    "# forward image\n",
    "with torch.no_grad():  \n",
    "    out = model(img.to('cuda:0'))\n",
    "    box, index = postprocess(out, num_classes=80, conf_thre=0.25, nms_thre=0.45, class_agnostic=True)\n",
    "    box = box[0]\n",
    "    # if box is None:\n",
    "    #     continue\n",
    "    explanation_map = np.load(f'{name_img}.npy')\n",
    "    del_img, count_img = causal_metric(model, img_np, box, explanation_map, 'del', step = 2000)\n",
    "    ins_img, count_img = causal_metric(model, img_np, box, explanation_map, 'ins', step = 2000)\n",
    "    del_auc += del_img\n",
    "    ins_auc += ins_img\n",
    "    count += count_img\n",
    "print(\"Deletion:\", np.mean(del_auc[count!=0]/count[count!=0]))\n",
    "print(\"Insertion:\", np.mean(ins_auc[count!=0]/count[count!=0]))"
   ]
  },
  {
   "cell_type": "markdown",
   "metadata": {
    "id": "FuDr_uIHkSG3"
   },
   "source": [
    "# Evaluation with k-mean"
   ]
  },
  {
   "cell_type": "code",
   "execution_count": null,
   "metadata": {
    "colab": {
     "base_uri": "https://localhost:8080/"
    },
    "id": "dIjOSZTnkYOQ",
    "outputId": "d6d67218-dbf5-4a67-c0df-b507dde2b991"
   },
   "outputs": [],
   "source": [
    "# download MS-COCO validation dataset from link https://cocodataset.org/#download and put folder \"val2017\" in folder \"COCO\"\n",
    "# ├── D-CLOSE/\n",
    "# │   ├── COCO /\n",
    "# │   │   ├── val2017 /\n",
    "# │   │   │\n",
    "# │   │   ├── annotations /\n",
    "# │   │   │   \n",
    "# │   │── ....\n",
    "from sklearn.cluster import KMeans\n",
    "X = []\n",
    "for img_path in tqdm(sorted(glob.glob('./COCO/val2017/*.jpg'))):\n",
    "    org_img = cv2.imread(img_path)\n",
    "    org_img = cv2.cvtColor(org_img, cv2.COLOR_BGR2RGB)\n",
    "    h, w, c = org_img.shape\n",
    "    ratio = min(640 / h, 640 / w)\n",
    "    img, _ = transform(org_img, None, (640, 640))\n",
    "    img = torch.from_numpy(img).unsqueeze(0).float()\n",
    "    img_np = img.squeeze().numpy().transpose(1, 2, 0).astype(np.uint8)\n",
    "    \n",
    "    with torch.no_grad():  \n",
    "        out = model(img.to('cuda:0'))\n",
    "        box, index = postprocess(out, num_classes=80, conf_thre=0.25, nms_thre=0.45, class_agnostic=True)\n",
    "        box = box[0]\n",
    "        if box is None:\n",
    "          continue\n",
    "        s = (box[:,3] - box[:,1])*(box[:,2] - box[:,0]) \n",
    "        [X.append([b.cpu().item()]) for b in s]      "
   ]
  },
  {
   "cell_type": "code",
   "execution_count": null,
   "metadata": {
    "colab": {
     "base_uri": "https://localhost:8080/"
    },
    "id": "TJmQOyUvlKGe",
    "outputId": "01adcfe1-06d4-4264-8c03-2232a1c7749f"
   },
   "outputs": [],
   "source": [
    "kmeans = KMeans(n_clusters=3, random_state=0).fit(X)\n",
    "kmeans.labels_"
   ]
  },
  {
   "cell_type": "code",
   "execution_count": null,
   "metadata": {
    "id": "4BPR9Rhnk1wg"
   },
   "outputs": [],
   "source": [
    "idx_1 = np.where(kmeans.labels_==1)\n",
    "idx_0 = np.where(kmeans.labels_==0)\n",
    "idx_2 = np.where(kmeans.labels_==2)\n",
    "group_1 = np.array(X)[idx_1[0]]\n",
    "group_0 = np.array(X)[idx_0[0]]\n",
    "group_2 = np.array(X)[idx_2[0]]"
   ]
  },
  {
   "cell_type": "code",
   "execution_count": null,
   "metadata": {
    "id": "g-yveOWfpth3"
   },
   "outputs": [],
   "source": [
    "\"\"\"\n",
    "Label 0 (Group 0): Middle object group\n",
    "Label 1 (Group 1): Small object group\n",
    "Label 2 (Group 2): Large object group\n",
    "\"\"\"\n",
    "print(group_0.max(), group_1.max(), group_2.max())\n",
    "print(\"Number of objects in Group 0:\" , len(idx_0[0]))\n",
    "print(\"Number of objects in Group 1:\" , len(idx_1[0]))\n",
    "print(\"Number of objects in Group 2:\" , len(idx_2[0]))"
   ]
  },
  {
   "cell_type": "markdown",
   "metadata": {
    "id": "kDKJT1GGq7F9"
   },
   "source": [
    "## Example "
   ]
  },
  {
   "cell_type": "code",
   "execution_count": null,
   "metadata": {
    "id": "LRr8xzdUmkYL"
   },
   "outputs": [],
   "source": [
    "from evaluation import metric, causal_metric, correspond_box\n",
    "from yolox.utils import postprocess\n",
    "\n",
    "# load yolox model\n",
    "model = models.yolox_l(pretrained=True)\n",
    "model.eval()\n",
    "transform = data_augment.ValTransform(legacy=False)\n",
    "\n",
    "# create array to save results\n",
    "ebpg = np.zeros((3, 80))\n",
    "pg = np.zeros((3, 80))\n",
    "count = np.zeros((3, 80))\n",
    "\n",
    "# read image\n",
    "img_path = './images/000000504635.jpg'\n",
    "org_img = cv2.imread(img_path)\n",
    "org_img = cv2.cvtColor(org_img, cv2.COLOR_BGR2RGB)\n",
    "h, w, c = org_img.shape\n",
    "ratio = min(640 / h, 640 / w)\n",
    "\n",
    "# preprocess image\n",
    "img, _ = transform(org_img, None, (640, 640))\n",
    "img = torch.from_numpy(img).unsqueeze(0).float()\n",
    "img_np = img.squeeze().numpy().transpose(1, 2, 0).astype(np.uint8)\n",
    "file_name = img_path.split('/')[-1]\n",
    "name_img = file_name.split('.')[0]\n",
    "\n",
    "# forward image\n",
    "with torch.no_grad():  \n",
    "    out = model(img.to('cuda:0'))\n",
    "    box, index = postprocess(out, num_classes=80, conf_thre=0.25, nms_thre=0.45, class_agnostic=True)\n",
    "    box = box[0]\n",
    "    # if box is None or len(info_data[file_name]) == 0:\n",
    "    #     continue\n",
    "    gt_box, idx_correspond = correspond_box(box.cpu().numpy(), info_data[file_name])\n",
    "    # if len(gt_box) == 0:\n",
    "    #     continue\n",
    "    explanation_map = np.load(f'{name_img}.npy')\n",
    "    for (j, i) in enumerate(idx_correspond):\n",
    "        ebpg_img, pg_img, count_img = metric(gt_box[j][None,:], explanation_map[i][None,:])\n",
    "        s = (box[i,3] - box[i,1])*(box[i,2] - box[i,0])\n",
    "        group_idx = kmeans.predict([[s.cpu().item()]])\n",
    "        ebpg[group_idx]+= ebpg_img\n",
    "        pg[group_idx] += pg_img\n",
    "        count[group_idx] += count_img\n",
    "for i in range(3):\n",
    "    print(f\"PG (Group {i}):\", np.mean(pg[i][count[i]!=0]/count[i][count[i]!=0]))\n",
    "    print(f\"EBPG (Group {i}):\", np.mean(ebpg[i][count[i]!=0]/count[i][count[i]!=0]))"
   ]
  }
 ],
 "metadata": {
  "accelerator": "GPU",
  "colab": {
   "provenance": []
  },
  "gpuClass": "standard",
  "kernelspec": {
   "display_name": "Python 3 (ipykernel)",
   "language": "python",
   "name": "python3"
  },
  "language_info": {
   "codemirror_mode": {
    "name": "ipython",
    "version": 3
   },
   "file_extension": ".py",
   "mimetype": "text/x-python",
   "name": "python",
   "nbconvert_exporter": "python",
   "pygments_lexer": "ipython3",
   "version": "3.9.7"
  },
  "widgets": {
   "application/vnd.jupyter.widget-state+json": {
    "02a3e5dbc2e8421cb64fe243671cb016": {
     "model_module": "@jupyter-widgets/controls",
     "model_module_version": "1.5.0",
     "model_name": "HBoxModel",
     "state": {
      "_dom_classes": [],
      "_model_module": "@jupyter-widgets/controls",
      "_model_module_version": "1.5.0",
      "_model_name": "HBoxModel",
      "_view_count": null,
      "_view_module": "@jupyter-widgets/controls",
      "_view_module_version": "1.5.0",
      "_view_name": "HBoxView",
      "box_style": "",
      "children": [
       "IPY_MODEL_3aed09904de74795a3a526b2737c09fc",
       "IPY_MODEL_503f1a95302848caa5932560c61a7df5",
       "IPY_MODEL_73afdfdc437b4853a956239042f6b53e"
      ],
      "layout": "IPY_MODEL_6a9fe632a4ad4bcf8a2f1bfe7be425da"
     }
    },
    "097d56ef02ec4ebe954d345b73bca9da": {
     "model_module": "@jupyter-widgets/base",
     "model_module_version": "1.2.0",
     "model_name": "LayoutModel",
     "state": {
      "_model_module": "@jupyter-widgets/base",
      "_model_module_version": "1.2.0",
      "_model_name": "LayoutModel",
      "_view_count": null,
      "_view_module": "@jupyter-widgets/base",
      "_view_module_version": "1.2.0",
      "_view_name": "LayoutView",
      "align_content": null,
      "align_items": null,
      "align_self": null,
      "border": null,
      "bottom": null,
      "display": null,
      "flex": null,
      "flex_flow": null,
      "grid_area": null,
      "grid_auto_columns": null,
      "grid_auto_flow": null,
      "grid_auto_rows": null,
      "grid_column": null,
      "grid_gap": null,
      "grid_row": null,
      "grid_template_areas": null,
      "grid_template_columns": null,
      "grid_template_rows": null,
      "height": null,
      "justify_content": null,
      "justify_items": null,
      "left": null,
      "margin": null,
      "max_height": null,
      "max_width": null,
      "min_height": null,
      "min_width": null,
      "object_fit": null,
      "object_position": null,
      "order": null,
      "overflow": null,
      "overflow_x": null,
      "overflow_y": null,
      "padding": null,
      "right": null,
      "top": null,
      "visibility": null,
      "width": null
     }
    },
    "1d62fb47eb394188bdabde271e7ba2cf": {
     "model_module": "@jupyter-widgets/controls",
     "model_module_version": "1.5.0",
     "model_name": "DescriptionStyleModel",
     "state": {
      "_model_module": "@jupyter-widgets/controls",
      "_model_module_version": "1.5.0",
      "_model_name": "DescriptionStyleModel",
      "_view_count": null,
      "_view_module": "@jupyter-widgets/base",
      "_view_module_version": "1.2.0",
      "_view_name": "StyleView",
      "description_width": ""
     }
    },
    "34c008f8cd18449693d278333c775ac4": {
     "model_module": "@jupyter-widgets/controls",
     "model_module_version": "1.5.0",
     "model_name": "DescriptionStyleModel",
     "state": {
      "_model_module": "@jupyter-widgets/controls",
      "_model_module_version": "1.5.0",
      "_model_name": "DescriptionStyleModel",
      "_view_count": null,
      "_view_module": "@jupyter-widgets/base",
      "_view_module_version": "1.2.0",
      "_view_name": "StyleView",
      "description_width": ""
     }
    },
    "354cc4705cfe4e40bb8103e2b174db78": {
     "model_module": "@jupyter-widgets/controls",
     "model_module_version": "1.5.0",
     "model_name": "HTMLModel",
     "state": {
      "_dom_classes": [],
      "_model_module": "@jupyter-widgets/controls",
      "_model_module_version": "1.5.0",
      "_model_name": "HTMLModel",
      "_view_count": null,
      "_view_module": "@jupyter-widgets/controls",
      "_view_module_version": "1.5.0",
      "_view_name": "HTMLView",
      "description": "",
      "description_tooltip": null,
      "layout": "IPY_MODEL_c9b86b3756f4421d90295b7db689621b",
      "placeholder": "​",
      "style": "IPY_MODEL_cafa9fbfe1c4477d8520aaf25e931739",
      "value": "100%"
     }
    },
    "3aed09904de74795a3a526b2737c09fc": {
     "model_module": "@jupyter-widgets/controls",
     "model_module_version": "1.5.0",
     "model_name": "HTMLModel",
     "state": {
      "_dom_classes": [],
      "_model_module": "@jupyter-widgets/controls",
      "_model_module_version": "1.5.0",
      "_model_name": "HTMLModel",
      "_view_count": null,
      "_view_module": "@jupyter-widgets/controls",
      "_view_module_version": "1.5.0",
      "_view_name": "HTMLView",
      "description": "",
      "description_tooltip": null,
      "layout": "IPY_MODEL_b553499936084edf849df079c4a09fc8",
      "placeholder": "​",
      "style": "IPY_MODEL_63e6235624eb463d992996f27333017c",
      "value": "100%"
     }
    },
    "4897e821af104c40815000c85dcb56f8": {
     "model_module": "@jupyter-widgets/controls",
     "model_module_version": "1.5.0",
     "model_name": "ProgressStyleModel",
     "state": {
      "_model_module": "@jupyter-widgets/controls",
      "_model_module_version": "1.5.0",
      "_model_name": "ProgressStyleModel",
      "_view_count": null,
      "_view_module": "@jupyter-widgets/base",
      "_view_module_version": "1.2.0",
      "_view_name": "StyleView",
      "bar_color": null,
      "description_width": ""
     }
    },
    "503f1a95302848caa5932560c61a7df5": {
     "model_module": "@jupyter-widgets/controls",
     "model_module_version": "1.5.0",
     "model_name": "FloatProgressModel",
     "state": {
      "_dom_classes": [],
      "_model_module": "@jupyter-widgets/controls",
      "_model_module_version": "1.5.0",
      "_model_name": "FloatProgressModel",
      "_view_count": null,
      "_view_module": "@jupyter-widgets/controls",
      "_view_module_version": "1.5.0",
      "_view_name": "ProgressView",
      "bar_style": "success",
      "description": "",
      "description_tooltip": null,
      "layout": "IPY_MODEL_6d1f2237df124ab18eaa493f19b30aad",
      "max": 167502836,
      "min": 0,
      "orientation": "horizontal",
      "style": "IPY_MODEL_4897e821af104c40815000c85dcb56f8",
      "value": 167502836
     }
    },
    "63e6235624eb463d992996f27333017c": {
     "model_module": "@jupyter-widgets/controls",
     "model_module_version": "1.5.0",
     "model_name": "DescriptionStyleModel",
     "state": {
      "_model_module": "@jupyter-widgets/controls",
      "_model_module_version": "1.5.0",
      "_model_name": "DescriptionStyleModel",
      "_view_count": null,
      "_view_module": "@jupyter-widgets/base",
      "_view_module_version": "1.2.0",
      "_view_name": "StyleView",
      "description_width": ""
     }
    },
    "6a9fe632a4ad4bcf8a2f1bfe7be425da": {
     "model_module": "@jupyter-widgets/base",
     "model_module_version": "1.2.0",
     "model_name": "LayoutModel",
     "state": {
      "_model_module": "@jupyter-widgets/base",
      "_model_module_version": "1.2.0",
      "_model_name": "LayoutModel",
      "_view_count": null,
      "_view_module": "@jupyter-widgets/base",
      "_view_module_version": "1.2.0",
      "_view_name": "LayoutView",
      "align_content": null,
      "align_items": null,
      "align_self": null,
      "border": null,
      "bottom": null,
      "display": null,
      "flex": null,
      "flex_flow": null,
      "grid_area": null,
      "grid_auto_columns": null,
      "grid_auto_flow": null,
      "grid_auto_rows": null,
      "grid_column": null,
      "grid_gap": null,
      "grid_row": null,
      "grid_template_areas": null,
      "grid_template_columns": null,
      "grid_template_rows": null,
      "height": null,
      "justify_content": null,
      "justify_items": null,
      "left": null,
      "margin": null,
      "max_height": null,
      "max_width": null,
      "min_height": null,
      "min_width": null,
      "object_fit": null,
      "object_position": null,
      "order": null,
      "overflow": null,
      "overflow_x": null,
      "overflow_y": null,
      "padding": null,
      "right": null,
      "top": null,
      "visibility": null,
      "width": null
     }
    },
    "6d1f2237df124ab18eaa493f19b30aad": {
     "model_module": "@jupyter-widgets/base",
     "model_module_version": "1.2.0",
     "model_name": "LayoutModel",
     "state": {
      "_model_module": "@jupyter-widgets/base",
      "_model_module_version": "1.2.0",
      "_model_name": "LayoutModel",
      "_view_count": null,
      "_view_module": "@jupyter-widgets/base",
      "_view_module_version": "1.2.0",
      "_view_name": "LayoutView",
      "align_content": null,
      "align_items": null,
      "align_self": null,
      "border": null,
      "bottom": null,
      "display": null,
      "flex": null,
      "flex_flow": null,
      "grid_area": null,
      "grid_auto_columns": null,
      "grid_auto_flow": null,
      "grid_auto_rows": null,
      "grid_column": null,
      "grid_gap": null,
      "grid_row": null,
      "grid_template_areas": null,
      "grid_template_columns": null,
      "grid_template_rows": null,
      "height": null,
      "justify_content": null,
      "justify_items": null,
      "left": null,
      "margin": null,
      "max_height": null,
      "max_width": null,
      "min_height": null,
      "min_width": null,
      "object_fit": null,
      "object_position": null,
      "order": null,
      "overflow": null,
      "overflow_x": null,
      "overflow_y": null,
      "padding": null,
      "right": null,
      "top": null,
      "visibility": null,
      "width": null
     }
    },
    "73afdfdc437b4853a956239042f6b53e": {
     "model_module": "@jupyter-widgets/controls",
     "model_module_version": "1.5.0",
     "model_name": "HTMLModel",
     "state": {
      "_dom_classes": [],
      "_model_module": "@jupyter-widgets/controls",
      "_model_module_version": "1.5.0",
      "_model_name": "HTMLModel",
      "_view_count": null,
      "_view_module": "@jupyter-widgets/controls",
      "_view_module_version": "1.5.0",
      "_view_name": "HTMLView",
      "description": "",
      "description_tooltip": null,
      "layout": "IPY_MODEL_d8249944e0bf46d4b26e33d2481dc365",
      "placeholder": "​",
      "style": "IPY_MODEL_34c008f8cd18449693d278333c775ac4",
      "value": " 160M/160M [00:00&lt;00:00, 210MB/s]"
     }
    },
    "79417560215646f9af0d80267155f9e4": {
     "model_module": "@jupyter-widgets/controls",
     "model_module_version": "1.5.0",
     "model_name": "FloatProgressModel",
     "state": {
      "_dom_classes": [],
      "_model_module": "@jupyter-widgets/controls",
      "_model_module_version": "1.5.0",
      "_model_name": "FloatProgressModel",
      "_view_count": null,
      "_view_module": "@jupyter-widgets/controls",
      "_view_module_version": "1.5.0",
      "_view_name": "ProgressView",
      "bar_style": "success",
      "description": "",
      "description_tooltip": null,
      "layout": "IPY_MODEL_097d56ef02ec4ebe954d345b73bca9da",
      "max": 434357141,
      "min": 0,
      "orientation": "horizontal",
      "style": "IPY_MODEL_a13266d4f5d24688b6069e2b9311fec3",
      "value": 434357141
     }
    },
    "906d1d760fa84041a210886e37d00508": {
     "model_module": "@jupyter-widgets/base",
     "model_module_version": "1.2.0",
     "model_name": "LayoutModel",
     "state": {
      "_model_module": "@jupyter-widgets/base",
      "_model_module_version": "1.2.0",
      "_model_name": "LayoutModel",
      "_view_count": null,
      "_view_module": "@jupyter-widgets/base",
      "_view_module_version": "1.2.0",
      "_view_name": "LayoutView",
      "align_content": null,
      "align_items": null,
      "align_self": null,
      "border": null,
      "bottom": null,
      "display": null,
      "flex": null,
      "flex_flow": null,
      "grid_area": null,
      "grid_auto_columns": null,
      "grid_auto_flow": null,
      "grid_auto_rows": null,
      "grid_column": null,
      "grid_gap": null,
      "grid_row": null,
      "grid_template_areas": null,
      "grid_template_columns": null,
      "grid_template_rows": null,
      "height": null,
      "justify_content": null,
      "justify_items": null,
      "left": null,
      "margin": null,
      "max_height": null,
      "max_width": null,
      "min_height": null,
      "min_width": null,
      "object_fit": null,
      "object_position": null,
      "order": null,
      "overflow": null,
      "overflow_x": null,
      "overflow_y": null,
      "padding": null,
      "right": null,
      "top": null,
      "visibility": null,
      "width": null
     }
    },
    "a13266d4f5d24688b6069e2b9311fec3": {
     "model_module": "@jupyter-widgets/controls",
     "model_module_version": "1.5.0",
     "model_name": "ProgressStyleModel",
     "state": {
      "_model_module": "@jupyter-widgets/controls",
      "_model_module_version": "1.5.0",
      "_model_name": "ProgressStyleModel",
      "_view_count": null,
      "_view_module": "@jupyter-widgets/base",
      "_view_module_version": "1.2.0",
      "_view_name": "StyleView",
      "bar_color": null,
      "description_width": ""
     }
    },
    "af155fe1bf53452e95b8099d060e0b6c": {
     "model_module": "@jupyter-widgets/base",
     "model_module_version": "1.2.0",
     "model_name": "LayoutModel",
     "state": {
      "_model_module": "@jupyter-widgets/base",
      "_model_module_version": "1.2.0",
      "_model_name": "LayoutModel",
      "_view_count": null,
      "_view_module": "@jupyter-widgets/base",
      "_view_module_version": "1.2.0",
      "_view_name": "LayoutView",
      "align_content": null,
      "align_items": null,
      "align_self": null,
      "border": null,
      "bottom": null,
      "display": null,
      "flex": null,
      "flex_flow": null,
      "grid_area": null,
      "grid_auto_columns": null,
      "grid_auto_flow": null,
      "grid_auto_rows": null,
      "grid_column": null,
      "grid_gap": null,
      "grid_row": null,
      "grid_template_areas": null,
      "grid_template_columns": null,
      "grid_template_rows": null,
      "height": null,
      "justify_content": null,
      "justify_items": null,
      "left": null,
      "margin": null,
      "max_height": null,
      "max_width": null,
      "min_height": null,
      "min_width": null,
      "object_fit": null,
      "object_position": null,
      "order": null,
      "overflow": null,
      "overflow_x": null,
      "overflow_y": null,
      "padding": null,
      "right": null,
      "top": null,
      "visibility": null,
      "width": null
     }
    },
    "b553499936084edf849df079c4a09fc8": {
     "model_module": "@jupyter-widgets/base",
     "model_module_version": "1.2.0",
     "model_name": "LayoutModel",
     "state": {
      "_model_module": "@jupyter-widgets/base",
      "_model_module_version": "1.2.0",
      "_model_name": "LayoutModel",
      "_view_count": null,
      "_view_module": "@jupyter-widgets/base",
      "_view_module_version": "1.2.0",
      "_view_name": "LayoutView",
      "align_content": null,
      "align_items": null,
      "align_self": null,
      "border": null,
      "bottom": null,
      "display": null,
      "flex": null,
      "flex_flow": null,
      "grid_area": null,
      "grid_auto_columns": null,
      "grid_auto_flow": null,
      "grid_auto_rows": null,
      "grid_column": null,
      "grid_gap": null,
      "grid_row": null,
      "grid_template_areas": null,
      "grid_template_columns": null,
      "grid_template_rows": null,
      "height": null,
      "justify_content": null,
      "justify_items": null,
      "left": null,
      "margin": null,
      "max_height": null,
      "max_width": null,
      "min_height": null,
      "min_width": null,
      "object_fit": null,
      "object_position": null,
      "order": null,
      "overflow": null,
      "overflow_x": null,
      "overflow_y": null,
      "padding": null,
      "right": null,
      "top": null,
      "visibility": null,
      "width": null
     }
    },
    "b59d715f3cdb4d109e24d2fd141e6e8b": {
     "model_module": "@jupyter-widgets/controls",
     "model_module_version": "1.5.0",
     "model_name": "HTMLModel",
     "state": {
      "_dom_classes": [],
      "_model_module": "@jupyter-widgets/controls",
      "_model_module_version": "1.5.0",
      "_model_name": "HTMLModel",
      "_view_count": null,
      "_view_module": "@jupyter-widgets/controls",
      "_view_module_version": "1.5.0",
      "_view_name": "HTMLView",
      "description": "",
      "description_tooltip": null,
      "layout": "IPY_MODEL_906d1d760fa84041a210886e37d00508",
      "placeholder": "​",
      "style": "IPY_MODEL_1d62fb47eb394188bdabde271e7ba2cf",
      "value": " 414M/414M [02:10&lt;00:00, 6.20MB/s]"
     }
    },
    "c9b86b3756f4421d90295b7db689621b": {
     "model_module": "@jupyter-widgets/base",
     "model_module_version": "1.2.0",
     "model_name": "LayoutModel",
     "state": {
      "_model_module": "@jupyter-widgets/base",
      "_model_module_version": "1.2.0",
      "_model_name": "LayoutModel",
      "_view_count": null,
      "_view_module": "@jupyter-widgets/base",
      "_view_module_version": "1.2.0",
      "_view_name": "LayoutView",
      "align_content": null,
      "align_items": null,
      "align_self": null,
      "border": null,
      "bottom": null,
      "display": null,
      "flex": null,
      "flex_flow": null,
      "grid_area": null,
      "grid_auto_columns": null,
      "grid_auto_flow": null,
      "grid_auto_rows": null,
      "grid_column": null,
      "grid_gap": null,
      "grid_row": null,
      "grid_template_areas": null,
      "grid_template_columns": null,
      "grid_template_rows": null,
      "height": null,
      "justify_content": null,
      "justify_items": null,
      "left": null,
      "margin": null,
      "max_height": null,
      "max_width": null,
      "min_height": null,
      "min_width": null,
      "object_fit": null,
      "object_position": null,
      "order": null,
      "overflow": null,
      "overflow_x": null,
      "overflow_y": null,
      "padding": null,
      "right": null,
      "top": null,
      "visibility": null,
      "width": null
     }
    },
    "cafa9fbfe1c4477d8520aaf25e931739": {
     "model_module": "@jupyter-widgets/controls",
     "model_module_version": "1.5.0",
     "model_name": "DescriptionStyleModel",
     "state": {
      "_model_module": "@jupyter-widgets/controls",
      "_model_module_version": "1.5.0",
      "_model_name": "DescriptionStyleModel",
      "_view_count": null,
      "_view_module": "@jupyter-widgets/base",
      "_view_module_version": "1.2.0",
      "_view_name": "StyleView",
      "description_width": ""
     }
    },
    "d8249944e0bf46d4b26e33d2481dc365": {
     "model_module": "@jupyter-widgets/base",
     "model_module_version": "1.2.0",
     "model_name": "LayoutModel",
     "state": {
      "_model_module": "@jupyter-widgets/base",
      "_model_module_version": "1.2.0",
      "_model_name": "LayoutModel",
      "_view_count": null,
      "_view_module": "@jupyter-widgets/base",
      "_view_module_version": "1.2.0",
      "_view_name": "LayoutView",
      "align_content": null,
      "align_items": null,
      "align_self": null,
      "border": null,
      "bottom": null,
      "display": null,
      "flex": null,
      "flex_flow": null,
      "grid_area": null,
      "grid_auto_columns": null,
      "grid_auto_flow": null,
      "grid_auto_rows": null,
      "grid_column": null,
      "grid_gap": null,
      "grid_row": null,
      "grid_template_areas": null,
      "grid_template_columns": null,
      "grid_template_rows": null,
      "height": null,
      "justify_content": null,
      "justify_items": null,
      "left": null,
      "margin": null,
      "max_height": null,
      "max_width": null,
      "min_height": null,
      "min_width": null,
      "object_fit": null,
      "object_position": null,
      "order": null,
      "overflow": null,
      "overflow_x": null,
      "overflow_y": null,
      "padding": null,
      "right": null,
      "top": null,
      "visibility": null,
      "width": null
     }
    },
    "e553c8a804da49069f27343bdc2ab7d1": {
     "model_module": "@jupyter-widgets/controls",
     "model_module_version": "1.5.0",
     "model_name": "HBoxModel",
     "state": {
      "_dom_classes": [],
      "_model_module": "@jupyter-widgets/controls",
      "_model_module_version": "1.5.0",
      "_model_name": "HBoxModel",
      "_view_count": null,
      "_view_module": "@jupyter-widgets/controls",
      "_view_module_version": "1.5.0",
      "_view_name": "HBoxView",
      "box_style": "",
      "children": [
       "IPY_MODEL_354cc4705cfe4e40bb8103e2b174db78",
       "IPY_MODEL_79417560215646f9af0d80267155f9e4",
       "IPY_MODEL_b59d715f3cdb4d109e24d2fd141e6e8b"
      ],
      "layout": "IPY_MODEL_af155fe1bf53452e95b8099d060e0b6c"
     }
    }
   }
  }
 },
 "nbformat": 4,
 "nbformat_minor": 1
}
